{
 "cells": [
  {
   "cell_type": "markdown",
   "metadata": {},
   "source": [
    "## Enviroment Setup"
   ]
  },
  {
   "cell_type": "code",
   "execution_count": 1,
   "metadata": {},
   "outputs": [
    {
     "name": "stderr",
     "output_type": "stream",
     "text": [
      "/Users/fanyimin/miniconda3/envs/cogo/lib/python3.9/site-packages/tqdm/auto.py:21: TqdmWarning: IProgress not found. Please update jupyter and ipywidgets. See https://ipywidgets.readthedocs.io/en/stable/user_install.html\n",
      "  from .autonotebook import tqdm as notebook_tqdm\n",
      "/Users/fanyimin/miniconda3/envs/cogo/lib/python3.9/site-packages/torch_geometric/typing.py:101: UserWarning: An issue occurred while importing 'torch-sparse'. Disabling its usage. Stacktrace: \n",
      "object has no attribute sparse_csc_tensor:\n",
      "  File \"/Users/fanyimin/miniconda3/envs/cogo/lib/python3.9/site-packages/torch_sparse/tensor.py\", line 585\n",
      "            value = torch.ones(self.nnz(), dtype=dtype, device=self.device())\n",
      "    \n",
      "        return torch.sparse_csc_tensor(colptr, row, value, self.sizes())\n",
      "               ~~~~~~~~~~~~~~~~~~~~~~~ <--- HERE\n",
      "\n",
      "  warnings.warn(f\"An issue occurred while importing 'torch-sparse'. \"\n"
     ]
    }
   ],
   "source": [
    "import argparse\n",
    "import numpy as np\n",
    "import torch\n",
    "import torch.optim as optim\n",
    "from torch_geometric.data import Data\n",
    "from gnn_disease.utils import *\n",
    "from gnn_disease.model import *\n",
    "from gnn_disease.model_g_encoder import *\n",
    "from gnn_disease.model_kg_encoder import *\n",
    "from gnn_disease.trainer import Trainer"
   ]
  },
  {
   "cell_type": "markdown",
   "metadata": {},
   "source": [
    "## Setup hyperparameters and configurations for the code"
   ]
  },
  {
   "cell_type": "code",
   "execution_count": 2,
   "metadata": {},
   "outputs": [],
   "source": [
    "parser = argparse.ArgumentParser(description=\"PyTorch JCLModel\")\n",
    "parser.add_argument(\"--data\", default=\"./data\", help=\"path to dataset\")\n",
    "parser.add_argument(\"--h_dim\", default=32, type=int, help=\"dimension of layer h\")\n",
    "parser.add_argument(\"--z_dim\", default=32, type=int, help=\"dimension of layer z\")\n",
    "parser.add_argument(\"--tau\", default=1.0, type=float, help=\"softmax temperature\")\n",
    "parser.add_argument(\"--lr\", default=0.003, type=float, help=\"learning rate\")\n",
    "parser.add_argument(\"--epochs\", default=20, type=int, help=\"train epochs\")\n",
    "parser.add_argument(\n",
    "    \"--disable-cuda\", default=True, action=\"store_true\", help=\"disable CUDA\"\n",
    ")\n",
    "parser.add_argument(\n",
    "    \"--log-every-n-steps\", default=1, type=int, help=\"log every n steps\"\n",
    ")\n",
    "parser.add_argument(\"--g_name\", default=\"GCN\", type=str, help=\"log every n steps\")\n",
    "parser.add_argument(\"--kg_name\", default=\"RGCN\", type=str, help=\"log every n steps\")\n",
    "\n",
    "args = parser.parse_known_args()[0]\n",
    "\n",
    "device = torch.device(\n",
    "    \"cuda\" if not args.disable_cuda and torch.cuda.is_available() else \"cpu\"\n",
    ")"
   ]
  },
  {
   "cell_type": "markdown",
   "metadata": {},
   "source": [
    "## Load dataset"
   ]
  },
  {
   "cell_type": "code",
   "execution_count": 3,
   "metadata": {},
   "outputs": [],
   "source": [
    "# Load knowledge graph statistics\n",
    "with open(args.data + \"/entity2id.txt\", \"r\") as f:\n",
    "    num_ents = (int)(f.readline())\n",
    "with open(args.data + \"/relation2id.txt\", \"r\") as f:\n",
    "    num_rels = (int)(f.readline())"
   ]
  },
  {
   "cell_type": "markdown",
   "metadata": {},
   "source": [
    "There are 43987 genes involved in total for the analysis and 9 types of relationships in the GO Database"
   ]
  },
  {
   "cell_type": "code",
   "execution_count": 4,
   "metadata": {},
   "outputs": [
    {
     "data": {
      "text/plain": [
       "43987"
      ]
     },
     "execution_count": 4,
     "metadata": {},
     "output_type": "execute_result"
    }
   ],
   "source": [
    "## Number of Gene entities in the graph\n",
    "num_ents"
   ]
  },
  {
   "cell_type": "code",
   "execution_count": 5,
   "metadata": {},
   "outputs": [
    {
     "data": {
      "text/plain": [
       "9"
      ]
     },
     "execution_count": 5,
     "metadata": {},
     "output_type": "execute_result"
    }
   ],
   "source": [
    "## Number of gene relationships in the graph (we only count unique relationships)\n",
    "num_rels"
   ]
  },
  {
   "cell_type": "code",
   "execution_count": 6,
   "metadata": {},
   "outputs": [
    {
     "name": "stdout",
     "output_type": "stream",
     "text": [
      "GO(90185) datasets loaded.\n"
     ]
    }
   ],
   "source": [
    "# Load GO knowledge graph \n",
    "train_triples = load_triples(args.data)\n",
    "edge_index, edge_type = get_kg_data(train_triples, num_rels)\n",
    "kg_data = Data(edge_index=edge_index, edge_type=edge_type, num_nodes=num_ents)"
   ]
  },
  {
   "cell_type": "markdown",
   "metadata": {},
   "source": [
    "There are 43986 entities in this dataset in total, and there are 180370 relationships \n",
    "We show an example here on how the data is stored. The edge index stores the source and destination of all relationships. The shape of edge index is (2,180370). And the train triples contain 90185 tuples for training, which is reasonable becuase each relationship will be stored twice 180370/2=90185. The tuple in train triples contain three elements, the first is source, the second is relation type and the third is destination"
   ]
  },
  {
   "cell_type": "code",
   "execution_count": 7,
   "metadata": {},
   "outputs": [
    {
     "name": "stdout",
     "output_type": "stream",
     "text": [
      "90185\n",
      "180370\n",
      "tensor([[    0,     1,     2,     3,     3,     4,     5,     6,     7,     7],\n",
      "        [28837, 29194, 28780, 35250, 28128, 28833, 19962,  9011,  6711, 19094]])\n",
      "[(0, 0, 28837), (1, 0, 29194), (2, 0, 28780), (3, 0, 35250), (3, 0, 28128), (4, 0, 28833), (5, 0, 19962), (6, 0, 9011), (7, 0, 6711), (7, 0, 19094)]\n"
     ]
    }
   ],
   "source": [
    "print(len(train_triples))\n",
    "print(edge_index.shape[1])\n",
    "print(edge_index[:,0:10])\n",
    "print(train_triples[0:10])"
   ]
  },
  {
   "cell_type": "code",
   "execution_count": 8,
   "metadata": {},
   "outputs": [],
   "source": [
    "# Load human net for GCN Model\n",
    "hnadj = load_sparse(args.data + \"/hnet.npz\")\n",
    "src = hnadj.row\n",
    "dst = hnadj.col\n",
    "hn_edge_weight = torch.tensor(np.hstack((hnadj.data, hnadj.data)), dtype=torch.float)\n",
    "hn_edge_weight = (hn_edge_weight - hn_edge_weight.min()) / (\n",
    "    hn_edge_weight.max() - hn_edge_weight.min()\n",
    ")\n",
    "hn_edge_index = torch.tensor(\n",
    "    np.vstack((np.concatenate([src, dst]), np.concatenate([dst, src]))),\n",
    "    dtype=torch.long,\n",
    ")\n"
   ]
  },
  {
   "cell_type": "markdown",
   "metadata": {},
   "source": [
    "For the humannet dataset, there are totally 371571 relationships in this dataset across 17247 genes"
   ]
  },
  {
   "cell_type": "code",
   "execution_count": 9,
   "metadata": {},
   "outputs": [
    {
     "name": "stdout",
     "output_type": "stream",
     "text": [
      "371501\n",
      "371501\n",
      "(17247, 17247)\n"
     ]
    }
   ],
   "source": [
    "print(len(src))\n",
    "print(len(dst))\n",
    "print(hnadj.shape)"
   ]
  },
  {
   "cell_type": "markdown",
   "metadata": {},
   "source": [
    "g2o means the alignment between humannet database and Go database, the relationship is represented as a sparse matrix.  It is possible that a gene in one dataset corresponds to multiple genes in another dataset. So the sum of g2o matrix is larger than the total number of genes\n",
    "d2g means the alignment between disease and genes. the relationship is also represented as a sparse matrix. There are 30170 types of disease in total. One disease may correspond to one gene or multiple genes.\n",
    " "
   ]
  },
  {
   "cell_type": "code",
   "execution_count": 10,
   "metadata": {},
   "outputs": [],
   "source": [
    "# Load gene2GO align\n",
    "g2o = load_sparse(args.data + \"/g2o.npz\")\n",
    "g2o = mx_to_torch_sparse_tesnsor(g2o).to_dense()\n",
    "\n",
    "x = generate_sparse_one_hot(g2o.shape[0])\n",
    "g_data = Data(x=x, edge_index=hn_edge_index, edge_weight=hn_edge_weight)\n",
    "\n",
    "d2g = load_sparse(args.data + \"/d2g.npz\")\n",
    "d2g = mx_to_torch_sparse_tesnsor(d2g)"
   ]
  },
  {
   "cell_type": "code",
   "execution_count": 11,
   "metadata": {},
   "outputs": [
    {
     "name": "stdout",
     "output_type": "stream",
     "text": [
      "torch.Size([17247, 43987])\n",
      "torch.Size([17247])\n",
      "tensor([ 1., 10., 17.,  ..., 41., 13., 61.])\n",
      "torch.Size([30170, 17247])\n",
      "tensor([1.9400e+02, 9.0000e+00, 2.0440e+03,  ..., 1.0000e+00, 1.0000e+00,\n",
      "        1.0000e+00])\n"
     ]
    }
   ],
   "source": [
    "print(g2o.shape)\n",
    "print(torch.sum(g2o,dim=1).shape)\n",
    "print(torch.sum(g2o,dim=1))\n",
    "print(d2g.shape)\n",
    "print(torch.sum(d2g.to_dense(),dim=1))"
   ]
  },
  {
   "cell_type": "markdown",
   "metadata": {},
   "source": [
    "## Initialization of model"
   ]
  },
  {
   "cell_type": "code",
   "execution_count": 12,
   "metadata": {},
   "outputs": [],
   "source": [
    "\n",
    "if args.g_name == \"GCN\":\n",
    "    g_encoder = GCN(nfeat=g_data.x.shape[1], nhid=args.h_dim)\n",
    "elif args.g_name == \"EG\":\n",
    "    g_encoder = EG(nfeat=g_data.x.shape[1], nhid=args.h_dim)\n",
    "elif args.g_name == \"GAT\":\n",
    "    g_encoder = GAT(nfeat=g_data.x.shape[1], nhid=args.h_dim)\n",
    "elif args.g_name == \"GATv2\":\n",
    "    g_encoder = GATv2(nfeat=g_data.x.shape[1], nhid=args.h_dim)\n",
    "elif args.g_name == \"GraphGEN\":\n",
    "    g_encoder = GraphGEN(nfeat=g_data.x.shape[1], nhid=args.h_dim)\n",
    "else:\n",
    "    raise NotImplementedError\n",
    "if args.kg_name == \"FastRGCN\":\n",
    "    kg_encoder = FastRGCN(num_nodes=num_ents, nhid=args.h_dim, num_rels=num_rels * 2)\n",
    "elif args.kg_name == \"RGATConvNet\":\n",
    "    kg_encoder = RGATConvNet(num_nodes=num_ents, nhid=args.h_dim, num_rels=num_rels * 2)\n",
    "elif args.kg_name == \"RGCN\":\n",
    "    kg_encoder = RGCN(num_nodes=num_ents, nhid=args.h_dim, num_rels=num_rels * 2)\n",
    "projection = Projection(args.h_dim, args.z_dim)\n",
    "model = GNNDisease(g_encoder, kg_encoder, projection)\n",
    "opt = optim.RMSprop(model.parameters(), args.lr)\n",
    "trainer = Trainer(\n",
    "    model,\n",
    "    tau=args.tau,\n",
    "    optimizer=opt,\n",
    "    log_every_n_steps=args.log_every_n_steps,\n",
    "    device=device,\n",
    "    name=args.g_name + \"-\" + args.kg_name,\n",
    ")\n",
    "trainer.load_data(g_data, kg_data, g2o, d2g, args.data)"
   ]
  },
  {
   "cell_type": "markdown",
   "metadata": {},
   "source": [
    "## Train and test the model"
   ]
  },
  {
   "cell_type": "code",
   "execution_count": 13,
   "metadata": {},
   "outputs": [
    {
     "name": "stdout",
     "output_type": "stream",
     "text": [
      "Start JCLModel training for 20 epochs.\n"
     ]
    },
    {
     "name": "stderr",
     "output_type": "stream",
     "text": [
      "Loss 6.7493: 100%|██████████| 20/20 [01:35<00:00,  4.79s/it]\n"
     ]
    },
    {
     "name": "stdout",
     "output_type": "stream",
     "text": [
      "AUROC: 83.03623611922852 | AUPRC: 76.44462183277393\n"
     ]
    }
   ],
   "source": [
    "trainer.train(args.epochs)"
   ]
  },
  {
   "cell_type": "markdown",
   "metadata": {},
   "source": [
    "## Visualize the AUPRC/AUROC curve"
   ]
  },
  {
   "cell_type": "code",
   "execution_count": 14,
   "metadata": {},
   "outputs": [
    {
     "data": {
      "image/png": "[encoded data removed]",
      "text/plain": [
       "<Figure size 800x800 with 1 Axes>"
      ]
     },
     "metadata": {},
     "output_type": "display_data"
    }
   ],
   "source": [
    "import seaborn as sns\n",
    "import matplotlib.pyplot as plt\n",
    "fig, ax = plt.subplots(figsize=(8,8))\n",
    "\n",
    "with open(\"runs/\" + args.g_name+ \"-\" + args.kg_name + \"/training.log\") as f:\n",
    "    AUROC_all = []\n",
    "    epoch = []\n",
    "    count = 0\n",
    "    for line in f:\n",
    "        if \"Epoch\" in line:\n",
    "            item = line.split(\"\\t\")\n",
    "            AUROC = float(item[2].split(\" \")[1])\n",
    "            AUROC_all.append(AUROC)\n",
    "            epoch.append(count)\n",
    "            count = count + 1\n",
    "    sns.lineplot(x=np.array(epoch), y=np.array(AUROC_all), label = args.g_name + \"-\" + args.kg_name)\n",
    "    plt.xlabel(\"Epoch\")\n",
    "    plt.ylabel(\"AUROC\")\n",
    "    plt.show()"
   ]
  }
 ],
 "metadata": {
  "kernelspec": {
   "display_name": "cogo",
   "language": "python",
   "name": "python3"
  },
  "language_info": {
   "codemirror_mode": {
    "name": "ipython",
    "version": 3
   },
   "file_extension": ".py",
   "mimetype": "text/x-python",
   "name": "python",
   "nbconvert_exporter": "python",
   "pygments_lexer": "ipython3",
   "version": "3.9.18"
  },
  "orig_nbformat": 4
 },
 "nbformat": 4,
 "nbformat_minor": 2
}
